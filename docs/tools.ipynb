{
 "cells": [
  {
   "cell_type": "code",
   "execution_count": 1,
   "metadata": {},
   "outputs": [],
   "source": [
    "from langchain_contrasto.tools import LangchainInjectDetectTool\n",
    "from contrasto import ContrastoClient"
   ]
  },
  {
   "cell_type": "code",
   "execution_count": 2,
   "metadata": {},
   "outputs": [],
   "source": [
    "contrasto_client = ContrastoClient(\n",
    "    api_key=\"1234567890\",\n",
    "    overrided_config={\n",
    "        \"confidence_tiers\": {\n",
    "            0.96: ValueError(\"The prompt is an injection\"),\n",
    "            0.9: \"The prompt is a potential injection\"\n",
    "        },\n",
    "        \"default\": \"The prompt seems safe.\"\n",
    "    }\n",
    ")\n",
    "\n",
    "tool_inject_detect = LangchainInjectDetectTool(\n",
    "    contrasto_client=contrasto_client\n",
    ")"
   ]
  },
  {
   "cell_type": "code",
   "execution_count": 3,
   "metadata": {},
   "outputs": [
    {
     "data": {
      "text/plain": [
       "'The prompt is a potential injection'"
      ]
     },
     "execution_count": 3,
     "metadata": {},
     "output_type": "execute_result"
    }
   ],
   "source": [
    "tool_inject_detect._run(\"This is a test\")"
   ]
  },
  {
   "cell_type": "code",
   "execution_count": 4,
   "metadata": {},
   "outputs": [
    {
     "data": {
      "text/plain": [
       "ValueError('This is a test')"
      ]
     },
     "execution_count": 4,
     "metadata": {},
     "output_type": "execute_result"
    }
   ],
   "source": [
    "from contrasto import MockClient\n",
    "\n",
    "\n",
    "MockClient().check_inject(\"This is a test\")"
   ]
  },
  {
   "cell_type": "code",
   "execution_count": 5,
   "metadata": {},
   "outputs": [],
   "source": [
    "tool_inject_detect = LangchainInjectDetectTool(\n",
    "    contrasto_client=MockClient()\n",
    ")"
   ]
  }
 ],
 "metadata": {
  "kernelspec": {
   "display_name": "langchain-contrasto-E-ZcJZ2q-py3.11",
   "language": "python",
   "name": "python3"
  },
  "language_info": {
   "codemirror_mode": {
    "name": "ipython",
    "version": 3
   },
   "file_extension": ".py",
   "mimetype": "text/x-python",
   "name": "python",
   "nbconvert_exporter": "python",
   "pygments_lexer": "ipython3",
   "version": "3.11.0"
  }
 },
 "nbformat": 4,
 "nbformat_minor": 2
}
